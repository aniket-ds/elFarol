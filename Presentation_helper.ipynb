{
 "cells": [
  {
   "cell_type": "markdown",
   "metadata": {},
   "source": [
    "# The El Farol Bar Problem\n",
    "### Should I go to the bar tonight?\n",
    "\n",
    "![diagram](./diagram.jpg)"
   ]
  },
  {
   "cell_type": "markdown",
   "metadata": {},
   "source": [
    "### Hyperparameter Inputs:\n",
    "* number of iterations\n",
    "* number of agents\n",
    "* maximum memory length of agents\n",
    "* number of strategies per agent\n",
    "* cutoff value (at what point is it no longer fun to go?)\n",
    "* seed (for reproducibility)\n",
    "\n",
    "A few extra prompts for input...\n",
    "* do you want a log file generated at the end of the simulation?\n",
    "* what kind of plot do you want to generate for bar attendance? Moving average or every iteration?"
   ]
  }
 ],
 "metadata": {
  "kernelspec": {
   "display_name": "Python 3",
   "language": "python",
   "name": "python3"
  },
  "language_info": {
   "codemirror_mode": {
    "name": "ipython",
    "version": 3
   },
   "file_extension": ".py",
   "mimetype": "text/x-python",
   "name": "python",
   "nbconvert_exporter": "python",
   "pygments_lexer": "ipython3",
   "version": "3.6.3"
  }
 },
 "nbformat": 4,
 "nbformat_minor": 2
}
